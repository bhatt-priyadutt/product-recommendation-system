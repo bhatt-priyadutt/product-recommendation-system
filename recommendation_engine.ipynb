{
 "cells": [
  {
   "cell_type": "code",
   "execution_count": 1,
   "metadata": {
    "id": "lUCmkuy1bVIz"
   },
   "outputs": [],
   "source": [
    "import pandas as pd\n",
    "import numpy as np\n",
    "from sklearn.decomposition import TruncatedSVD"
   ]
  },
  {
   "cell_type": "code",
   "execution_count": 2,
   "metadata": {
    "id": "9epD8qDRcc3G"
   },
   "outputs": [],
   "source": [
    "elec = pd.read_csv(\"electronics.csv\")\n",
    "mod = pd.read_csv(\"modcloth.csv\")"
   ]
  },
  {
   "cell_type": "markdown",
   "metadata": {
    "id": "pAXuDxAP-IWS"
   },
   "source": [
    "# **Recommendaion System**"
   ]
  },
  {
   "cell_type": "markdown",
   "metadata": {
    "id": "LfysXRBFiskN"
   },
   "source": [
    "### **Modcloth**"
   ]
  },
  {
   "cell_type": "code",
   "execution_count": 3,
   "metadata": {
    "colab": {
     "base_uri": "https://localhost:8080/"
    },
    "id": "rqSEjh5siuuL",
    "outputId": "f9c3db6f-c015-4961-cc32-54ecc0e3101d"
   },
   "outputs": [
    {
     "name": "stdout",
     "output_type": "stream",
     "text": [
      "<class 'pandas.core.frame.DataFrame'>\n",
      "RangeIndex: 99893 entries, 0 to 99892\n",
      "Data columns (total 12 columns):\n",
      " #   Column      Non-Null Count  Dtype  \n",
      "---  ------      --------------  -----  \n",
      " 0   item_id     99893 non-null  int64  \n",
      " 1   user_id     99892 non-null  object \n",
      " 2   rating      99893 non-null  int64  \n",
      " 3   timestamp   99893 non-null  object \n",
      " 4   size        78133 non-null  float64\n",
      " 5   fit         81387 non-null  object \n",
      " 6   user_attr   91526 non-null  object \n",
      " 7   model_attr  99893 non-null  object \n",
      " 8   category    99893 non-null  object \n",
      " 9   brand       25913 non-null  object \n",
      " 10  year        99893 non-null  int64  \n",
      " 11  split       99893 non-null  int64  \n",
      "dtypes: float64(1), int64(4), object(7)\n",
      "memory usage: 9.1+ MB\n"
     ]
    }
   ],
   "source": [
    "mod.info()"
   ]
  },
  {
   "cell_type": "code",
   "execution_count": 4,
   "metadata": {
    "id": "PCOzmvwDody-"
   },
   "outputs": [],
   "source": [
    "mod=mod.drop(columns=['brand'],axis=1)\n",
    "mod.dropna(subset=['user_id'],inplace=True)"
   ]
  },
  {
   "cell_type": "code",
   "execution_count": 5,
   "metadata": {
    "colab": {
     "base_uri": "https://localhost:8080/"
    },
    "id": "4pCmo6y7Pntf",
    "outputId": "36ce6897-23c4-409c-a665-7a2db4441898"
   },
   "outputs": [
    {
     "data": {
      "text/plain": [
       "1020"
      ]
     },
     "execution_count": 5,
     "metadata": {},
     "output_type": "execute_result"
    }
   ],
   "source": [
    "mod.item_id.nunique()"
   ]
  },
  {
   "cell_type": "code",
   "execution_count": 6,
   "metadata": {
    "colab": {
     "base_uri": "https://localhost:8080/"
    },
    "id": "MkpofbpVPrEg",
    "outputId": "422d8303-28ce-4396-c37b-77f9d8195735"
   },
   "outputs": [
    {
     "data": {
      "text/plain": [
       "44783"
      ]
     },
     "execution_count": 6,
     "metadata": {},
     "output_type": "execute_result"
    }
   ],
   "source": [
    "mod.user_id.nunique()"
   ]
  },
  {
   "cell_type": "code",
   "execution_count": 7,
   "metadata": {},
   "outputs": [
    {
     "data": {
      "text/html": [
       "<div>\n",
       "<style scoped>\n",
       "    .dataframe tbody tr th:only-of-type {\n",
       "        vertical-align: middle;\n",
       "    }\n",
       "\n",
       "    .dataframe tbody tr th {\n",
       "        vertical-align: top;\n",
       "    }\n",
       "\n",
       "    .dataframe thead th {\n",
       "        text-align: right;\n",
       "    }\n",
       "</style>\n",
       "<table border=\"1\" class=\"dataframe\">\n",
       "  <thead>\n",
       "    <tr style=\"text-align: right;\">\n",
       "      <th></th>\n",
       "      <th>item_id</th>\n",
       "      <th>user_id</th>\n",
       "      <th>rating</th>\n",
       "      <th>timestamp</th>\n",
       "      <th>size</th>\n",
       "      <th>fit</th>\n",
       "      <th>user_attr</th>\n",
       "      <th>model_attr</th>\n",
       "      <th>category</th>\n",
       "      <th>year</th>\n",
       "      <th>split</th>\n",
       "    </tr>\n",
       "  </thead>\n",
       "  <tbody>\n",
       "    <tr>\n",
       "      <th>0</th>\n",
       "      <td>7443</td>\n",
       "      <td>Alex</td>\n",
       "      <td>4</td>\n",
       "      <td>2010-01-21 08:00:00+00:00</td>\n",
       "      <td>NaN</td>\n",
       "      <td>NaN</td>\n",
       "      <td>Small</td>\n",
       "      <td>Small</td>\n",
       "      <td>Dresses</td>\n",
       "      <td>2012</td>\n",
       "      <td>0</td>\n",
       "    </tr>\n",
       "    <tr>\n",
       "      <th>1</th>\n",
       "      <td>7443</td>\n",
       "      <td>carolyn.agan</td>\n",
       "      <td>3</td>\n",
       "      <td>2010-01-27 08:00:00+00:00</td>\n",
       "      <td>NaN</td>\n",
       "      <td>NaN</td>\n",
       "      <td>NaN</td>\n",
       "      <td>Small</td>\n",
       "      <td>Dresses</td>\n",
       "      <td>2012</td>\n",
       "      <td>0</td>\n",
       "    </tr>\n",
       "    <tr>\n",
       "      <th>2</th>\n",
       "      <td>7443</td>\n",
       "      <td>Robyn</td>\n",
       "      <td>4</td>\n",
       "      <td>2010-01-29 08:00:00+00:00</td>\n",
       "      <td>NaN</td>\n",
       "      <td>NaN</td>\n",
       "      <td>Small</td>\n",
       "      <td>Small</td>\n",
       "      <td>Dresses</td>\n",
       "      <td>2012</td>\n",
       "      <td>0</td>\n",
       "    </tr>\n",
       "    <tr>\n",
       "      <th>3</th>\n",
       "      <td>7443</td>\n",
       "      <td>De</td>\n",
       "      <td>4</td>\n",
       "      <td>2010-02-13 08:00:00+00:00</td>\n",
       "      <td>NaN</td>\n",
       "      <td>NaN</td>\n",
       "      <td>NaN</td>\n",
       "      <td>Small</td>\n",
       "      <td>Dresses</td>\n",
       "      <td>2012</td>\n",
       "      <td>0</td>\n",
       "    </tr>\n",
       "    <tr>\n",
       "      <th>4</th>\n",
       "      <td>7443</td>\n",
       "      <td>tasha</td>\n",
       "      <td>4</td>\n",
       "      <td>2010-02-18 08:00:00+00:00</td>\n",
       "      <td>NaN</td>\n",
       "      <td>NaN</td>\n",
       "      <td>Small</td>\n",
       "      <td>Small</td>\n",
       "      <td>Dresses</td>\n",
       "      <td>2012</td>\n",
       "      <td>0</td>\n",
       "    </tr>\n",
       "  </tbody>\n",
       "</table>\n",
       "</div>"
      ],
      "text/plain": [
       "   item_id       user_id  rating                  timestamp  size  fit  \\\n",
       "0     7443          Alex       4  2010-01-21 08:00:00+00:00   NaN  NaN   \n",
       "1     7443  carolyn.agan       3  2010-01-27 08:00:00+00:00   NaN  NaN   \n",
       "2     7443         Robyn       4  2010-01-29 08:00:00+00:00   NaN  NaN   \n",
       "3     7443            De       4  2010-02-13 08:00:00+00:00   NaN  NaN   \n",
       "4     7443         tasha       4  2010-02-18 08:00:00+00:00   NaN  NaN   \n",
       "\n",
       "  user_attr model_attr category  year  split  \n",
       "0     Small      Small  Dresses  2012      0  \n",
       "1       NaN      Small  Dresses  2012      0  \n",
       "2     Small      Small  Dresses  2012      0  \n",
       "3       NaN      Small  Dresses  2012      0  \n",
       "4     Small      Small  Dresses  2012      0  "
      ]
     },
     "execution_count": 7,
     "metadata": {},
     "output_type": "execute_result"
    }
   ],
   "source": [
    "new_df_mod=mod.groupby(\"item_id\").filter(lambda x:x['rating'].count() >=20)\n",
    "new_df_mod.head()"
   ]
  },
  {
   "cell_type": "code",
   "execution_count": 8,
   "metadata": {},
   "outputs": [
    {
     "data": {
      "text/html": [
       "<div>\n",
       "<style scoped>\n",
       "    .dataframe tbody tr th:only-of-type {\n",
       "        vertical-align: middle;\n",
       "    }\n",
       "\n",
       "    .dataframe tbody tr th {\n",
       "        vertical-align: top;\n",
       "    }\n",
       "\n",
       "    .dataframe thead th {\n",
       "        text-align: right;\n",
       "    }\n",
       "</style>\n",
       "<table border=\"1\" class=\"dataframe\">\n",
       "  <thead>\n",
       "    <tr style=\"text-align: right;\">\n",
       "      <th>item_id</th>\n",
       "      <th>6454</th>\n",
       "      <th>7443</th>\n",
       "      <th>11960</th>\n",
       "      <th>16411</th>\n",
       "      <th>21296</th>\n",
       "      <th>22563</th>\n",
       "      <th>24853</th>\n",
       "      <th>27439</th>\n",
       "      <th>27590</th>\n",
       "      <th>28252</th>\n",
       "      <th>...</th>\n",
       "      <th>154540</th>\n",
       "      <th>154541</th>\n",
       "      <th>154543</th>\n",
       "      <th>154567</th>\n",
       "      <th>154661</th>\n",
       "      <th>154665</th>\n",
       "      <th>154794</th>\n",
       "      <th>154797</th>\n",
       "      <th>155293</th>\n",
       "      <th>155317</th>\n",
       "    </tr>\n",
       "    <tr>\n",
       "      <th>user_id</th>\n",
       "      <th></th>\n",
       "      <th></th>\n",
       "      <th></th>\n",
       "      <th></th>\n",
       "      <th></th>\n",
       "      <th></th>\n",
       "      <th></th>\n",
       "      <th></th>\n",
       "      <th></th>\n",
       "      <th></th>\n",
       "      <th></th>\n",
       "      <th></th>\n",
       "      <th></th>\n",
       "      <th></th>\n",
       "      <th></th>\n",
       "      <th></th>\n",
       "      <th></th>\n",
       "      <th></th>\n",
       "      <th></th>\n",
       "      <th></th>\n",
       "      <th></th>\n",
       "    </tr>\n",
       "  </thead>\n",
       "  <tbody>\n",
       "    <tr>\n",
       "      <th>\"Ferrari\")</th>\n",
       "      <td>0</td>\n",
       "      <td>0</td>\n",
       "      <td>0</td>\n",
       "      <td>0</td>\n",
       "      <td>0</td>\n",
       "      <td>0</td>\n",
       "      <td>0</td>\n",
       "      <td>0</td>\n",
       "      <td>0</td>\n",
       "      <td>0</td>\n",
       "      <td>...</td>\n",
       "      <td>0</td>\n",
       "      <td>0</td>\n",
       "      <td>0</td>\n",
       "      <td>0</td>\n",
       "      <td>0</td>\n",
       "      <td>0</td>\n",
       "      <td>0</td>\n",
       "      <td>0</td>\n",
       "      <td>0</td>\n",
       "      <td>0</td>\n",
       "    </tr>\n",
       "    <tr>\n",
       "      <th>#</th>\n",
       "      <td>0</td>\n",
       "      <td>0</td>\n",
       "      <td>0</td>\n",
       "      <td>0</td>\n",
       "      <td>0</td>\n",
       "      <td>0</td>\n",
       "      <td>0</td>\n",
       "      <td>0</td>\n",
       "      <td>0</td>\n",
       "      <td>0</td>\n",
       "      <td>...</td>\n",
       "      <td>0</td>\n",
       "      <td>0</td>\n",
       "      <td>0</td>\n",
       "      <td>0</td>\n",
       "      <td>0</td>\n",
       "      <td>0</td>\n",
       "      <td>0</td>\n",
       "      <td>0</td>\n",
       "      <td>0</td>\n",
       "      <td>0</td>\n",
       "    </tr>\n",
       "    <tr>\n",
       "      <th>#1dad</th>\n",
       "      <td>0</td>\n",
       "      <td>0</td>\n",
       "      <td>0</td>\n",
       "      <td>0</td>\n",
       "      <td>0</td>\n",
       "      <td>0</td>\n",
       "      <td>0</td>\n",
       "      <td>0</td>\n",
       "      <td>0</td>\n",
       "      <td>0</td>\n",
       "      <td>...</td>\n",
       "      <td>0</td>\n",
       "      <td>0</td>\n",
       "      <td>0</td>\n",
       "      <td>0</td>\n",
       "      <td>0</td>\n",
       "      <td>0</td>\n",
       "      <td>0</td>\n",
       "      <td>0</td>\n",
       "      <td>0</td>\n",
       "      <td>0</td>\n",
       "    </tr>\n",
       "    <tr>\n",
       "      <th>'Chelle</th>\n",
       "      <td>0</td>\n",
       "      <td>0</td>\n",
       "      <td>0</td>\n",
       "      <td>0</td>\n",
       "      <td>0</td>\n",
       "      <td>0</td>\n",
       "      <td>0</td>\n",
       "      <td>0</td>\n",
       "      <td>0</td>\n",
       "      <td>0</td>\n",
       "      <td>...</td>\n",
       "      <td>0</td>\n",
       "      <td>0</td>\n",
       "      <td>0</td>\n",
       "      <td>0</td>\n",
       "      <td>0</td>\n",
       "      <td>0</td>\n",
       "      <td>0</td>\n",
       "      <td>0</td>\n",
       "      <td>0</td>\n",
       "      <td>0</td>\n",
       "    </tr>\n",
       "    <tr>\n",
       "      <th>'Tree'</th>\n",
       "      <td>0</td>\n",
       "      <td>0</td>\n",
       "      <td>0</td>\n",
       "      <td>0</td>\n",
       "      <td>0</td>\n",
       "      <td>0</td>\n",
       "      <td>0</td>\n",
       "      <td>0</td>\n",
       "      <td>0</td>\n",
       "      <td>0</td>\n",
       "      <td>...</td>\n",
       "      <td>0</td>\n",
       "      <td>0</td>\n",
       "      <td>0</td>\n",
       "      <td>0</td>\n",
       "      <td>0</td>\n",
       "      <td>0</td>\n",
       "      <td>0</td>\n",
       "      <td>0</td>\n",
       "      <td>0</td>\n",
       "      <td>0</td>\n",
       "    </tr>\n",
       "  </tbody>\n",
       "</table>\n",
       "<p>5 rows × 482 columns</p>\n",
       "</div>"
      ],
      "text/plain": [
       "item_id     6454    7443    11960   16411   21296   22563   24853   27439   \\\n",
       "user_id                                                                      \n",
       "\"Ferrari\")       0       0       0       0       0       0       0       0   \n",
       "#                0       0       0       0       0       0       0       0   \n",
       "#1dad            0       0       0       0       0       0       0       0   \n",
       "'Chelle          0       0       0       0       0       0       0       0   \n",
       "'Tree'           0       0       0       0       0       0       0       0   \n",
       "\n",
       "item_id     27590   28252   ...  154540  154541  154543  154567  154661  \\\n",
       "user_id                     ...                                           \n",
       "\"Ferrari\")       0       0  ...       0       0       0       0       0   \n",
       "#                0       0  ...       0       0       0       0       0   \n",
       "#1dad            0       0  ...       0       0       0       0       0   \n",
       "'Chelle          0       0  ...       0       0       0       0       0   \n",
       "'Tree'           0       0  ...       0       0       0       0       0   \n",
       "\n",
       "item_id     154665  154794  154797  155293  155317  \n",
       "user_id                                             \n",
       "\"Ferrari\")       0       0       0       0       0  \n",
       "#                0       0       0       0       0  \n",
       "#1dad            0       0       0       0       0  \n",
       "'Chelle          0       0       0       0       0  \n",
       "'Tree'           0       0       0       0       0  \n",
       "\n",
       "[5 rows x 482 columns]"
      ]
     },
     "execution_count": 8,
     "metadata": {},
     "output_type": "execute_result"
    }
   ],
   "source": [
    "ratings_matrix_mod = new_df_mod.pivot_table(values='rating', index='user_id', columns='item_id', fill_value=0)\n",
    "ratings_matrix_mod.head()"
   ]
  },
  {
   "cell_type": "code",
   "execution_count": 9,
   "metadata": {},
   "outputs": [
    {
     "data": {
      "text/html": [
       "<div>\n",
       "<style scoped>\n",
       "    .dataframe tbody tr th:only-of-type {\n",
       "        vertical-align: middle;\n",
       "    }\n",
       "\n",
       "    .dataframe tbody tr th {\n",
       "        vertical-align: top;\n",
       "    }\n",
       "\n",
       "    .dataframe thead th {\n",
       "        text-align: right;\n",
       "    }\n",
       "</style>\n",
       "<table border=\"1\" class=\"dataframe\">\n",
       "  <thead>\n",
       "    <tr style=\"text-align: right;\">\n",
       "      <th>user_id</th>\n",
       "      <th>\"Ferrari\")</th>\n",
       "      <th>#</th>\n",
       "      <th>#1dad</th>\n",
       "      <th>'Chelle</th>\n",
       "      <th>'Tree'</th>\n",
       "      <th>(usually)</th>\n",
       "      <th>-L</th>\n",
       "      <th>.</th>\n",
       "      <th>..</th>\n",
       "      <th>00izzyb</th>\n",
       "      <th>...</th>\n",
       "      <th>zuel</th>\n",
       "      <th>zugai01</th>\n",
       "      <th>zulemaphone</th>\n",
       "      <th>zumbafitnesscarly</th>\n",
       "      <th>zumbaneko</th>\n",
       "      <th>zurajohnson</th>\n",
       "      <th>zuzu_zoom</th>\n",
       "      <th>🇦🇺</th>\n",
       "      <th>🐻</th>\n",
       "      <th>😊</th>\n",
       "    </tr>\n",
       "    <tr>\n",
       "      <th>item_id</th>\n",
       "      <th></th>\n",
       "      <th></th>\n",
       "      <th></th>\n",
       "      <th></th>\n",
       "      <th></th>\n",
       "      <th></th>\n",
       "      <th></th>\n",
       "      <th></th>\n",
       "      <th></th>\n",
       "      <th></th>\n",
       "      <th></th>\n",
       "      <th></th>\n",
       "      <th></th>\n",
       "      <th></th>\n",
       "      <th></th>\n",
       "      <th></th>\n",
       "      <th></th>\n",
       "      <th></th>\n",
       "      <th></th>\n",
       "      <th></th>\n",
       "      <th></th>\n",
       "    </tr>\n",
       "  </thead>\n",
       "  <tbody>\n",
       "    <tr>\n",
       "      <th>6454</th>\n",
       "      <td>0</td>\n",
       "      <td>0</td>\n",
       "      <td>0</td>\n",
       "      <td>0</td>\n",
       "      <td>0</td>\n",
       "      <td>0</td>\n",
       "      <td>0</td>\n",
       "      <td>0</td>\n",
       "      <td>0</td>\n",
       "      <td>0</td>\n",
       "      <td>...</td>\n",
       "      <td>0</td>\n",
       "      <td>0</td>\n",
       "      <td>0</td>\n",
       "      <td>0</td>\n",
       "      <td>0</td>\n",
       "      <td>0</td>\n",
       "      <td>0</td>\n",
       "      <td>0</td>\n",
       "      <td>0</td>\n",
       "      <td>0</td>\n",
       "    </tr>\n",
       "    <tr>\n",
       "      <th>7443</th>\n",
       "      <td>0</td>\n",
       "      <td>0</td>\n",
       "      <td>0</td>\n",
       "      <td>0</td>\n",
       "      <td>0</td>\n",
       "      <td>0</td>\n",
       "      <td>0</td>\n",
       "      <td>0</td>\n",
       "      <td>0</td>\n",
       "      <td>0</td>\n",
       "      <td>...</td>\n",
       "      <td>0</td>\n",
       "      <td>0</td>\n",
       "      <td>0</td>\n",
       "      <td>0</td>\n",
       "      <td>0</td>\n",
       "      <td>0</td>\n",
       "      <td>0</td>\n",
       "      <td>0</td>\n",
       "      <td>0</td>\n",
       "      <td>0</td>\n",
       "    </tr>\n",
       "    <tr>\n",
       "      <th>11960</th>\n",
       "      <td>0</td>\n",
       "      <td>0</td>\n",
       "      <td>0</td>\n",
       "      <td>0</td>\n",
       "      <td>0</td>\n",
       "      <td>0</td>\n",
       "      <td>0</td>\n",
       "      <td>0</td>\n",
       "      <td>0</td>\n",
       "      <td>0</td>\n",
       "      <td>...</td>\n",
       "      <td>0</td>\n",
       "      <td>0</td>\n",
       "      <td>0</td>\n",
       "      <td>0</td>\n",
       "      <td>0</td>\n",
       "      <td>0</td>\n",
       "      <td>0</td>\n",
       "      <td>0</td>\n",
       "      <td>0</td>\n",
       "      <td>0</td>\n",
       "    </tr>\n",
       "    <tr>\n",
       "      <th>16411</th>\n",
       "      <td>0</td>\n",
       "      <td>0</td>\n",
       "      <td>0</td>\n",
       "      <td>0</td>\n",
       "      <td>0</td>\n",
       "      <td>0</td>\n",
       "      <td>0</td>\n",
       "      <td>0</td>\n",
       "      <td>0</td>\n",
       "      <td>0</td>\n",
       "      <td>...</td>\n",
       "      <td>0</td>\n",
       "      <td>0</td>\n",
       "      <td>0</td>\n",
       "      <td>0</td>\n",
       "      <td>0</td>\n",
       "      <td>0</td>\n",
       "      <td>0</td>\n",
       "      <td>0</td>\n",
       "      <td>0</td>\n",
       "      <td>0</td>\n",
       "    </tr>\n",
       "    <tr>\n",
       "      <th>21296</th>\n",
       "      <td>0</td>\n",
       "      <td>0</td>\n",
       "      <td>0</td>\n",
       "      <td>0</td>\n",
       "      <td>0</td>\n",
       "      <td>0</td>\n",
       "      <td>0</td>\n",
       "      <td>0</td>\n",
       "      <td>0</td>\n",
       "      <td>0</td>\n",
       "      <td>...</td>\n",
       "      <td>0</td>\n",
       "      <td>0</td>\n",
       "      <td>0</td>\n",
       "      <td>0</td>\n",
       "      <td>0</td>\n",
       "      <td>0</td>\n",
       "      <td>0</td>\n",
       "      <td>0</td>\n",
       "      <td>0</td>\n",
       "      <td>0</td>\n",
       "    </tr>\n",
       "  </tbody>\n",
       "</table>\n",
       "<p>5 rows × 43731 columns</p>\n",
       "</div>"
      ],
      "text/plain": [
       "user_id  \"Ferrari\")  #  #1dad  'Chelle  'Tree'  (usually)  -L  .  ..  00izzyb  \\\n",
       "item_id                                                                         \n",
       "6454              0  0      0        0       0          0   0  0   0        0   \n",
       "7443              0  0      0        0       0          0   0  0   0        0   \n",
       "11960             0  0      0        0       0          0   0  0   0        0   \n",
       "16411             0  0      0        0       0          0   0  0   0        0   \n",
       "21296             0  0      0        0       0          0   0  0   0        0   \n",
       "\n",
       "user_id  ...  zuel  zugai01  zulemaphone  zumbafitnesscarly  zumbaneko  \\\n",
       "item_id  ...                                                             \n",
       "6454     ...     0        0            0                  0          0   \n",
       "7443     ...     0        0            0                  0          0   \n",
       "11960    ...     0        0            0                  0          0   \n",
       "16411    ...     0        0            0                  0          0   \n",
       "21296    ...     0        0            0                  0          0   \n",
       "\n",
       "user_id  zurajohnson  zuzu_zoom  🇦🇺  🐻  😊  \n",
       "item_id                                    \n",
       "6454               0          0   0  0  0  \n",
       "7443               0          0   0  0  0  \n",
       "11960              0          0   0  0  0  \n",
       "16411              0          0   0  0  0  \n",
       "21296              0          0   0  0  0  \n",
       "\n",
       "[5 rows x 43731 columns]"
      ]
     },
     "execution_count": 9,
     "metadata": {},
     "output_type": "execute_result"
    }
   ],
   "source": [
    "X_mod = ratings_matrix_mod.T\n",
    "X_mod.head()"
   ]
  },
  {
   "cell_type": "code",
   "execution_count": 10,
   "metadata": {},
   "outputs": [
    {
     "data": {
      "text/plain": [
       "(482, 10)"
      ]
     },
     "execution_count": 10,
     "metadata": {},
     "output_type": "execute_result"
    }
   ],
   "source": [
    "SVD_mod = TruncatedSVD(n_components=10)\n",
    "decomposed_matrix_mod = SVD_mod.fit_transform(X_mod)\n",
    "decomposed_matrix_mod.shape"
   ]
  },
  {
   "cell_type": "code",
   "execution_count": 11,
   "metadata": {},
   "outputs": [
    {
     "data": {
      "text/plain": [
       "(482, 482)"
      ]
     },
     "execution_count": 11,
     "metadata": {},
     "output_type": "execute_result"
    }
   ],
   "source": [
    "#Finding Correlation between users\n",
    "correlation_matrix_mod = np.corrcoef(decomposed_matrix_mod)\n",
    "correlation_matrix_mod.shape"
   ]
  },
  {
   "cell_type": "code",
   "execution_count": 12,
   "metadata": {},
   "outputs": [],
   "source": [
    "def recommend_items_mod(item):\n",
    "    item_ids = list(X_mod.index)\n",
    "    item_id = item_ids.index(item)\n",
    "    corr_item_id = correlation_matrix_mod[item_id]\n",
    "    recommend = list(X_mod.index[corr_item_id > 0.65])\n",
    "    recommend.remove(item)\n",
    "    return recommend[0:20]"
   ]
  },
  {
   "cell_type": "code",
   "execution_count": 13,
   "metadata": {
    "colab": {
     "base_uri": "https://localhost:8080/"
    },
    "id": "V66IMxM4Tl8O",
    "outputId": "628af31b-741f-4395-a946-b9e5d8f41a5f"
   },
   "outputs": [
    {
     "data": {
      "text/plain": [
       "[6454,\n",
       " 11960,\n",
       " 16411,\n",
       " 22563,\n",
       " 24853,\n",
       " 27439,\n",
       " 27590,\n",
       " 28252,\n",
       " 28967,\n",
       " 31644,\n",
       " 31752,\n",
       " 32134,\n",
       " 32236,\n",
       " 34931,\n",
       " 34937,\n",
       " 35272,\n",
       " 35525,\n",
       " 36172,\n",
       " 36408,\n",
       " 40141]"
      ]
     },
     "execution_count": 13,
     "metadata": {},
     "output_type": "execute_result"
    }
   ],
   "source": [
    "recommend_items_mod(7443)"
   ]
  },
  {
   "cell_type": "markdown",
   "metadata": {},
   "source": [
    "# Electronics Dataset"
   ]
  },
  {
   "cell_type": "code",
   "execution_count": 15,
   "metadata": {
    "colab": {
     "base_uri": "https://localhost:8080/",
     "height": 195
    },
    "id": "P_Ymmu2QF6Bg",
    "outputId": "e4d0230a-a6a9-4631-bff4-e63b5b1d55ba"
   },
   "outputs": [
    {
     "data": {
      "text/html": [
       "<div>\n",
       "<style scoped>\n",
       "    .dataframe tbody tr th:only-of-type {\n",
       "        vertical-align: middle;\n",
       "    }\n",
       "\n",
       "    .dataframe tbody tr th {\n",
       "        vertical-align: top;\n",
       "    }\n",
       "\n",
       "    .dataframe thead th {\n",
       "        text-align: right;\n",
       "    }\n",
       "</style>\n",
       "<table border=\"1\" class=\"dataframe\">\n",
       "  <thead>\n",
       "    <tr style=\"text-align: right;\">\n",
       "      <th></th>\n",
       "      <th>item_id</th>\n",
       "      <th>user_id</th>\n",
       "      <th>rating</th>\n",
       "      <th>timestamp</th>\n",
       "      <th>model_attr</th>\n",
       "      <th>category</th>\n",
       "      <th>brand</th>\n",
       "      <th>year</th>\n",
       "      <th>user_attr</th>\n",
       "      <th>split</th>\n",
       "    </tr>\n",
       "  </thead>\n",
       "  <tbody>\n",
       "    <tr>\n",
       "      <th>0</th>\n",
       "      <td>0</td>\n",
       "      <td>0</td>\n",
       "      <td>5.0</td>\n",
       "      <td>1999-06-13</td>\n",
       "      <td>Female</td>\n",
       "      <td>Portable Audio &amp; Video</td>\n",
       "      <td>NaN</td>\n",
       "      <td>1999</td>\n",
       "      <td>NaN</td>\n",
       "      <td>0</td>\n",
       "    </tr>\n",
       "    <tr>\n",
       "      <th>1</th>\n",
       "      <td>0</td>\n",
       "      <td>1</td>\n",
       "      <td>5.0</td>\n",
       "      <td>1999-06-14</td>\n",
       "      <td>Female</td>\n",
       "      <td>Portable Audio &amp; Video</td>\n",
       "      <td>NaN</td>\n",
       "      <td>1999</td>\n",
       "      <td>NaN</td>\n",
       "      <td>0</td>\n",
       "    </tr>\n",
       "    <tr>\n",
       "      <th>2</th>\n",
       "      <td>0</td>\n",
       "      <td>2</td>\n",
       "      <td>3.0</td>\n",
       "      <td>1999-06-17</td>\n",
       "      <td>Female</td>\n",
       "      <td>Portable Audio &amp; Video</td>\n",
       "      <td>NaN</td>\n",
       "      <td>1999</td>\n",
       "      <td>NaN</td>\n",
       "      <td>0</td>\n",
       "    </tr>\n",
       "    <tr>\n",
       "      <th>3</th>\n",
       "      <td>0</td>\n",
       "      <td>3</td>\n",
       "      <td>1.0</td>\n",
       "      <td>1999-07-01</td>\n",
       "      <td>Female</td>\n",
       "      <td>Portable Audio &amp; Video</td>\n",
       "      <td>NaN</td>\n",
       "      <td>1999</td>\n",
       "      <td>NaN</td>\n",
       "      <td>0</td>\n",
       "    </tr>\n",
       "    <tr>\n",
       "      <th>4</th>\n",
       "      <td>0</td>\n",
       "      <td>4</td>\n",
       "      <td>2.0</td>\n",
       "      <td>1999-07-06</td>\n",
       "      <td>Female</td>\n",
       "      <td>Portable Audio &amp; Video</td>\n",
       "      <td>NaN</td>\n",
       "      <td>1999</td>\n",
       "      <td>NaN</td>\n",
       "      <td>0</td>\n",
       "    </tr>\n",
       "  </tbody>\n",
       "</table>\n",
       "</div>"
      ],
      "text/plain": [
       "   item_id  user_id  rating   timestamp model_attr                category  \\\n",
       "0        0        0     5.0  1999-06-13     Female  Portable Audio & Video   \n",
       "1        0        1     5.0  1999-06-14     Female  Portable Audio & Video   \n",
       "2        0        2     3.0  1999-06-17     Female  Portable Audio & Video   \n",
       "3        0        3     1.0  1999-07-01     Female  Portable Audio & Video   \n",
       "4        0        4     2.0  1999-07-06     Female  Portable Audio & Video   \n",
       "\n",
       "  brand  year user_attr  split  \n",
       "0   NaN  1999       NaN      0  \n",
       "1   NaN  1999       NaN      0  \n",
       "2   NaN  1999       NaN      0  \n",
       "3   NaN  1999       NaN      0  \n",
       "4   NaN  1999       NaN      0  "
      ]
     },
     "execution_count": 15,
     "metadata": {},
     "output_type": "execute_result"
    }
   ],
   "source": [
    "elec.head()"
   ]
  },
  {
   "cell_type": "code",
   "execution_count": 16,
   "metadata": {
    "colab": {
     "base_uri": "https://localhost:8080/"
    },
    "id": "Vrxjb1N4Dlz2",
    "outputId": "6de6ff46-7cd5-43c3-e0cc-c48953752bc4"
   },
   "outputs": [
    {
     "name": "stdout",
     "output_type": "stream",
     "text": [
      "<class 'pandas.core.frame.DataFrame'>\n",
      "RangeIndex: 1292954 entries, 0 to 1292953\n",
      "Data columns (total 10 columns):\n",
      " #   Column      Non-Null Count    Dtype  \n",
      "---  ------      --------------    -----  \n",
      " 0   item_id     1292954 non-null  int64  \n",
      " 1   user_id     1292954 non-null  int64  \n",
      " 2   rating      1292954 non-null  float64\n",
      " 3   timestamp   1292954 non-null  object \n",
      " 4   model_attr  1292954 non-null  object \n",
      " 5   category    1292954 non-null  object \n",
      " 6   brand       331120 non-null   object \n",
      " 7   year        1292954 non-null  int64  \n",
      " 8   user_attr   174124 non-null   object \n",
      " 9   split       1292954 non-null  int64  \n",
      "dtypes: float64(1), int64(4), object(5)\n",
      "memory usage: 98.6+ MB\n"
     ]
    }
   ],
   "source": [
    "elec.info()"
   ]
  },
  {
   "cell_type": "code",
   "execution_count": 17,
   "metadata": {
    "colab": {
     "base_uri": "https://localhost:8080/"
    },
    "id": "ORI7A0DCABv-",
    "outputId": "02144085-293a-47c6-9943-5f6bca6b0d3c"
   },
   "outputs": [
    {
     "data": {
      "text/plain": [
       "142967    41\n",
       "30661     38\n",
       "89185     37\n",
       "80476     34\n",
       "46878     34\n",
       "          ..\n",
       "354760     1\n",
       "352713     1\n",
       "356811     1\n",
       "346572     1\n",
       "2047       1\n",
       "Name: user_id, Length: 1157633, dtype: int64"
      ]
     },
     "execution_count": 17,
     "metadata": {},
     "output_type": "execute_result"
    }
   ],
   "source": [
    "#we dont need users who haven't buyed multiple products\n",
    "a=elec.user_id.value_counts()\n",
    "a"
   ]
  },
  {
   "cell_type": "code",
   "execution_count": 18,
   "metadata": {
    "colab": {
     "base_uri": "https://localhost:8080/"
    },
    "id": "oLZsnI2oBPUJ",
    "outputId": "e85532d7-54e1-4b4b-c7e1-3cac52a2b123"
   },
   "outputs": [
    {
     "data": {
      "text/plain": [
       "20335"
      ]
     },
     "execution_count": 18,
     "metadata": {},
     "output_type": "execute_result"
    }
   ],
   "source": [
    "indexes = []\n",
    "for i in a.index:\n",
    "    if a[i] > 2:\n",
    "        indexes.append(i)\n",
    "len(indexes)"
   ]
  },
  {
   "cell_type": "code",
   "execution_count": 19,
   "metadata": {
    "id": "ugWPVWuqAFVm"
   },
   "outputs": [],
   "source": [
    "elec2 = elec[elec.user_id.isin(indexes)]"
   ]
  },
  {
   "cell_type": "code",
   "execution_count": 20,
   "metadata": {
    "colab": {
     "base_uri": "https://localhost:8080/"
    },
    "id": "XrZHznadAFb8",
    "outputId": "f2e6d703-be83-41f7-958b-a6317a6ba11e"
   },
   "outputs": [
    {
     "name": "stdout",
     "output_type": "stream",
     "text": [
      "<class 'pandas.core.frame.DataFrame'>\n",
      "Int64Index: 73181 entries, 7 to 1292855\n",
      "Data columns (total 10 columns):\n",
      " #   Column      Non-Null Count  Dtype  \n",
      "---  ------      --------------  -----  \n",
      " 0   item_id     73181 non-null  int64  \n",
      " 1   user_id     73181 non-null  int64  \n",
      " 2   rating      73181 non-null  float64\n",
      " 3   timestamp   73181 non-null  object \n",
      " 4   model_attr  73181 non-null  object \n",
      " 5   category    73181 non-null  object \n",
      " 6   brand       19493 non-null  object \n",
      " 7   year        73181 non-null  int64  \n",
      " 8   user_attr   30507 non-null  object \n",
      " 9   split       73181 non-null  int64  \n",
      "dtypes: float64(1), int64(4), object(5)\n",
      "memory usage: 6.1+ MB\n"
     ]
    }
   ],
   "source": [
    "elec2.info()"
   ]
  },
  {
   "cell_type": "code",
   "execution_count": 21,
   "metadata": {
    "id": "AX2zoYclZd8D"
   },
   "outputs": [],
   "source": [
    "new_df_elec=elec2.groupby(\"item_id\").filter(lambda x:x['rating'].count() >=20)"
   ]
  },
  {
   "cell_type": "code",
   "execution_count": 22,
   "metadata": {
    "colab": {
     "base_uri": "https://localhost:8080/",
     "height": 274
    },
    "id": "kj-UvzMKZjmE",
    "outputId": "e88d23b6-1012-408e-f5ca-94912a4e426b"
   },
   "outputs": [
    {
     "data": {
      "text/html": [
       "<div>\n",
       "<style scoped>\n",
       "    .dataframe tbody tr th:only-of-type {\n",
       "        vertical-align: middle;\n",
       "    }\n",
       "\n",
       "    .dataframe tbody tr th {\n",
       "        vertical-align: top;\n",
       "    }\n",
       "\n",
       "    .dataframe thead th {\n",
       "        text-align: right;\n",
       "    }\n",
       "</style>\n",
       "<table border=\"1\" class=\"dataframe\">\n",
       "  <thead>\n",
       "    <tr style=\"text-align: right;\">\n",
       "      <th>item_id</th>\n",
       "      <th>2</th>\n",
       "      <th>17</th>\n",
       "      <th>43</th>\n",
       "      <th>77</th>\n",
       "      <th>79</th>\n",
       "      <th>80</th>\n",
       "      <th>81</th>\n",
       "      <th>87</th>\n",
       "      <th>111</th>\n",
       "      <th>121</th>\n",
       "      <th>...</th>\n",
       "      <th>9175</th>\n",
       "      <th>9250</th>\n",
       "      <th>9255</th>\n",
       "      <th>9297</th>\n",
       "      <th>9315</th>\n",
       "      <th>9345</th>\n",
       "      <th>9361</th>\n",
       "      <th>9406</th>\n",
       "      <th>9510</th>\n",
       "      <th>9537</th>\n",
       "    </tr>\n",
       "    <tr>\n",
       "      <th>user_id</th>\n",
       "      <th></th>\n",
       "      <th></th>\n",
       "      <th></th>\n",
       "      <th></th>\n",
       "      <th></th>\n",
       "      <th></th>\n",
       "      <th></th>\n",
       "      <th></th>\n",
       "      <th></th>\n",
       "      <th></th>\n",
       "      <th></th>\n",
       "      <th></th>\n",
       "      <th></th>\n",
       "      <th></th>\n",
       "      <th></th>\n",
       "      <th></th>\n",
       "      <th></th>\n",
       "      <th></th>\n",
       "      <th></th>\n",
       "      <th></th>\n",
       "      <th></th>\n",
       "    </tr>\n",
       "  </thead>\n",
       "  <tbody>\n",
       "    <tr>\n",
       "      <th>7</th>\n",
       "      <td>0</td>\n",
       "      <td>0</td>\n",
       "      <td>0</td>\n",
       "      <td>0</td>\n",
       "      <td>0</td>\n",
       "      <td>0</td>\n",
       "      <td>0</td>\n",
       "      <td>0</td>\n",
       "      <td>0</td>\n",
       "      <td>0</td>\n",
       "      <td>...</td>\n",
       "      <td>0</td>\n",
       "      <td>0</td>\n",
       "      <td>0</td>\n",
       "      <td>0</td>\n",
       "      <td>0</td>\n",
       "      <td>0</td>\n",
       "      <td>0</td>\n",
       "      <td>0</td>\n",
       "      <td>0</td>\n",
       "      <td>0</td>\n",
       "    </tr>\n",
       "    <tr>\n",
       "      <th>28</th>\n",
       "      <td>0</td>\n",
       "      <td>0</td>\n",
       "      <td>0</td>\n",
       "      <td>0</td>\n",
       "      <td>0</td>\n",
       "      <td>0</td>\n",
       "      <td>0</td>\n",
       "      <td>0</td>\n",
       "      <td>0</td>\n",
       "      <td>0</td>\n",
       "      <td>...</td>\n",
       "      <td>0</td>\n",
       "      <td>0</td>\n",
       "      <td>0</td>\n",
       "      <td>0</td>\n",
       "      <td>0</td>\n",
       "      <td>0</td>\n",
       "      <td>0</td>\n",
       "      <td>0</td>\n",
       "      <td>0</td>\n",
       "      <td>0</td>\n",
       "    </tr>\n",
       "    <tr>\n",
       "      <th>62</th>\n",
       "      <td>0</td>\n",
       "      <td>0</td>\n",
       "      <td>0</td>\n",
       "      <td>0</td>\n",
       "      <td>0</td>\n",
       "      <td>0</td>\n",
       "      <td>0</td>\n",
       "      <td>0</td>\n",
       "      <td>0</td>\n",
       "      <td>5</td>\n",
       "      <td>...</td>\n",
       "      <td>0</td>\n",
       "      <td>0</td>\n",
       "      <td>0</td>\n",
       "      <td>0</td>\n",
       "      <td>0</td>\n",
       "      <td>0</td>\n",
       "      <td>0</td>\n",
       "      <td>0</td>\n",
       "      <td>0</td>\n",
       "      <td>0</td>\n",
       "    </tr>\n",
       "    <tr>\n",
       "      <th>96</th>\n",
       "      <td>0</td>\n",
       "      <td>0</td>\n",
       "      <td>0</td>\n",
       "      <td>0</td>\n",
       "      <td>0</td>\n",
       "      <td>0</td>\n",
       "      <td>0</td>\n",
       "      <td>0</td>\n",
       "      <td>0</td>\n",
       "      <td>0</td>\n",
       "      <td>...</td>\n",
       "      <td>0</td>\n",
       "      <td>0</td>\n",
       "      <td>0</td>\n",
       "      <td>0</td>\n",
       "      <td>0</td>\n",
       "      <td>0</td>\n",
       "      <td>0</td>\n",
       "      <td>0</td>\n",
       "      <td>0</td>\n",
       "      <td>0</td>\n",
       "    </tr>\n",
       "    <tr>\n",
       "      <th>131</th>\n",
       "      <td>0</td>\n",
       "      <td>0</td>\n",
       "      <td>0</td>\n",
       "      <td>0</td>\n",
       "      <td>0</td>\n",
       "      <td>0</td>\n",
       "      <td>0</td>\n",
       "      <td>0</td>\n",
       "      <td>0</td>\n",
       "      <td>0</td>\n",
       "      <td>...</td>\n",
       "      <td>0</td>\n",
       "      <td>0</td>\n",
       "      <td>0</td>\n",
       "      <td>0</td>\n",
       "      <td>0</td>\n",
       "      <td>0</td>\n",
       "      <td>0</td>\n",
       "      <td>0</td>\n",
       "      <td>0</td>\n",
       "      <td>0</td>\n",
       "    </tr>\n",
       "  </tbody>\n",
       "</table>\n",
       "<p>5 rows × 801 columns</p>\n",
       "</div>"
      ],
      "text/plain": [
       "item_id  2     17    43    77    79    80    81    87    111   121   ...  \\\n",
       "user_id                                                              ...   \n",
       "7           0     0     0     0     0     0     0     0     0     0  ...   \n",
       "28          0     0     0     0     0     0     0     0     0     0  ...   \n",
       "62          0     0     0     0     0     0     0     0     0     5  ...   \n",
       "96          0     0     0     0     0     0     0     0     0     0  ...   \n",
       "131         0     0     0     0     0     0     0     0     0     0  ...   \n",
       "\n",
       "item_id  9175  9250  9255  9297  9315  9345  9361  9406  9510  9537  \n",
       "user_id                                                              \n",
       "7           0     0     0     0     0     0     0     0     0     0  \n",
       "28          0     0     0     0     0     0     0     0     0     0  \n",
       "62          0     0     0     0     0     0     0     0     0     0  \n",
       "96          0     0     0     0     0     0     0     0     0     0  \n",
       "131         0     0     0     0     0     0     0     0     0     0  \n",
       "\n",
       "[5 rows x 801 columns]"
      ]
     },
     "execution_count": 22,
     "metadata": {},
     "output_type": "execute_result"
    }
   ],
   "source": [
    "ratings_matrix_elec = new_df_elec.pivot_table(values='rating', index='user_id', columns='item_id', fill_value=0)\n",
    "ratings_matrix_elec.head()"
   ]
  },
  {
   "cell_type": "code",
   "execution_count": 23,
   "metadata": {
    "colab": {
     "base_uri": "https://localhost:8080/"
    },
    "id": "LlfNvUrxZo_x",
    "outputId": "27f91b47-f219-4974-c627-fd6c32935b2d"
   },
   "outputs": [
    {
     "data": {
      "text/plain": [
       "(19394, 801)"
      ]
     },
     "execution_count": 23,
     "metadata": {},
     "output_type": "execute_result"
    }
   ],
   "source": [
    "ratings_matrix_elec.shape"
   ]
  },
  {
   "cell_type": "code",
   "execution_count": 24,
   "metadata": {
    "colab": {
     "base_uri": "https://localhost:8080/",
     "height": 274
    },
    "id": "l8XwFR7YZttL",
    "outputId": "0894549b-6ea0-45fd-c5d8-33263a7649c8"
   },
   "outputs": [
    {
     "data": {
      "text/html": [
       "<div>\n",
       "<style scoped>\n",
       "    .dataframe tbody tr th:only-of-type {\n",
       "        vertical-align: middle;\n",
       "    }\n",
       "\n",
       "    .dataframe tbody tr th {\n",
       "        vertical-align: top;\n",
       "    }\n",
       "\n",
       "    .dataframe thead th {\n",
       "        text-align: right;\n",
       "    }\n",
       "</style>\n",
       "<table border=\"1\" class=\"dataframe\">\n",
       "  <thead>\n",
       "    <tr style=\"text-align: right;\">\n",
       "      <th>user_id</th>\n",
       "      <th>7</th>\n",
       "      <th>28</th>\n",
       "      <th>62</th>\n",
       "      <th>96</th>\n",
       "      <th>131</th>\n",
       "      <th>158</th>\n",
       "      <th>269</th>\n",
       "      <th>372</th>\n",
       "      <th>392</th>\n",
       "      <th>428</th>\n",
       "      <th>...</th>\n",
       "      <th>1140484</th>\n",
       "      <th>1141428</th>\n",
       "      <th>1142408</th>\n",
       "      <th>1144602</th>\n",
       "      <th>1144732</th>\n",
       "      <th>1144754</th>\n",
       "      <th>1148742</th>\n",
       "      <th>1149153</th>\n",
       "      <th>1150395</th>\n",
       "      <th>1153360</th>\n",
       "    </tr>\n",
       "    <tr>\n",
       "      <th>item_id</th>\n",
       "      <th></th>\n",
       "      <th></th>\n",
       "      <th></th>\n",
       "      <th></th>\n",
       "      <th></th>\n",
       "      <th></th>\n",
       "      <th></th>\n",
       "      <th></th>\n",
       "      <th></th>\n",
       "      <th></th>\n",
       "      <th></th>\n",
       "      <th></th>\n",
       "      <th></th>\n",
       "      <th></th>\n",
       "      <th></th>\n",
       "      <th></th>\n",
       "      <th></th>\n",
       "      <th></th>\n",
       "      <th></th>\n",
       "      <th></th>\n",
       "      <th></th>\n",
       "    </tr>\n",
       "  </thead>\n",
       "  <tbody>\n",
       "    <tr>\n",
       "      <th>2</th>\n",
       "      <td>0</td>\n",
       "      <td>0</td>\n",
       "      <td>0</td>\n",
       "      <td>0</td>\n",
       "      <td>0</td>\n",
       "      <td>0</td>\n",
       "      <td>0</td>\n",
       "      <td>0</td>\n",
       "      <td>0</td>\n",
       "      <td>0</td>\n",
       "      <td>...</td>\n",
       "      <td>0</td>\n",
       "      <td>0</td>\n",
       "      <td>0</td>\n",
       "      <td>0</td>\n",
       "      <td>0</td>\n",
       "      <td>0</td>\n",
       "      <td>0</td>\n",
       "      <td>0</td>\n",
       "      <td>0</td>\n",
       "      <td>0</td>\n",
       "    </tr>\n",
       "    <tr>\n",
       "      <th>17</th>\n",
       "      <td>0</td>\n",
       "      <td>0</td>\n",
       "      <td>0</td>\n",
       "      <td>0</td>\n",
       "      <td>0</td>\n",
       "      <td>0</td>\n",
       "      <td>0</td>\n",
       "      <td>0</td>\n",
       "      <td>0</td>\n",
       "      <td>0</td>\n",
       "      <td>...</td>\n",
       "      <td>0</td>\n",
       "      <td>0</td>\n",
       "      <td>0</td>\n",
       "      <td>0</td>\n",
       "      <td>0</td>\n",
       "      <td>0</td>\n",
       "      <td>0</td>\n",
       "      <td>0</td>\n",
       "      <td>0</td>\n",
       "      <td>0</td>\n",
       "    </tr>\n",
       "    <tr>\n",
       "      <th>43</th>\n",
       "      <td>0</td>\n",
       "      <td>0</td>\n",
       "      <td>0</td>\n",
       "      <td>0</td>\n",
       "      <td>0</td>\n",
       "      <td>0</td>\n",
       "      <td>0</td>\n",
       "      <td>0</td>\n",
       "      <td>0</td>\n",
       "      <td>0</td>\n",
       "      <td>...</td>\n",
       "      <td>0</td>\n",
       "      <td>0</td>\n",
       "      <td>0</td>\n",
       "      <td>0</td>\n",
       "      <td>0</td>\n",
       "      <td>0</td>\n",
       "      <td>0</td>\n",
       "      <td>0</td>\n",
       "      <td>0</td>\n",
       "      <td>0</td>\n",
       "    </tr>\n",
       "    <tr>\n",
       "      <th>77</th>\n",
       "      <td>0</td>\n",
       "      <td>0</td>\n",
       "      <td>0</td>\n",
       "      <td>0</td>\n",
       "      <td>0</td>\n",
       "      <td>0</td>\n",
       "      <td>0</td>\n",
       "      <td>0</td>\n",
       "      <td>0</td>\n",
       "      <td>0</td>\n",
       "      <td>...</td>\n",
       "      <td>0</td>\n",
       "      <td>0</td>\n",
       "      <td>0</td>\n",
       "      <td>0</td>\n",
       "      <td>0</td>\n",
       "      <td>0</td>\n",
       "      <td>0</td>\n",
       "      <td>0</td>\n",
       "      <td>0</td>\n",
       "      <td>0</td>\n",
       "    </tr>\n",
       "    <tr>\n",
       "      <th>79</th>\n",
       "      <td>0</td>\n",
       "      <td>0</td>\n",
       "      <td>0</td>\n",
       "      <td>0</td>\n",
       "      <td>0</td>\n",
       "      <td>0</td>\n",
       "      <td>0</td>\n",
       "      <td>0</td>\n",
       "      <td>0</td>\n",
       "      <td>0</td>\n",
       "      <td>...</td>\n",
       "      <td>0</td>\n",
       "      <td>0</td>\n",
       "      <td>0</td>\n",
       "      <td>0</td>\n",
       "      <td>0</td>\n",
       "      <td>0</td>\n",
       "      <td>0</td>\n",
       "      <td>0</td>\n",
       "      <td>0</td>\n",
       "      <td>0</td>\n",
       "    </tr>\n",
       "  </tbody>\n",
       "</table>\n",
       "<p>5 rows × 19394 columns</p>\n",
       "</div>"
      ],
      "text/plain": [
       "user_id  7        28       62       96       131      158      269      \\\n",
       "item_id                                                                  \n",
       "2              0        0        0        0        0        0        0   \n",
       "17             0        0        0        0        0        0        0   \n",
       "43             0        0        0        0        0        0        0   \n",
       "77             0        0        0        0        0        0        0   \n",
       "79             0        0        0        0        0        0        0   \n",
       "\n",
       "user_id  372      392      428      ...  1140484  1141428  1142408  1144602  \\\n",
       "item_id                             ...                                       \n",
       "2              0        0        0  ...        0        0        0        0   \n",
       "17             0        0        0  ...        0        0        0        0   \n",
       "43             0        0        0  ...        0        0        0        0   \n",
       "77             0        0        0  ...        0        0        0        0   \n",
       "79             0        0        0  ...        0        0        0        0   \n",
       "\n",
       "user_id  1144732  1144754  1148742  1149153  1150395  1153360  \n",
       "item_id                                                        \n",
       "2              0        0        0        0        0        0  \n",
       "17             0        0        0        0        0        0  \n",
       "43             0        0        0        0        0        0  \n",
       "77             0        0        0        0        0        0  \n",
       "79             0        0        0        0        0        0  \n",
       "\n",
       "[5 rows x 19394 columns]"
      ]
     },
     "execution_count": 24,
     "metadata": {},
     "output_type": "execute_result"
    }
   ],
   "source": [
    "#as the matrix is sparse, apply transpose\n",
    "X_elec = ratings_matrix_elec.T\n",
    "X_elec.head()"
   ]
  },
  {
   "cell_type": "code",
   "execution_count": 25,
   "metadata": {
    "colab": {
     "base_uri": "https://localhost:8080/"
    },
    "id": "2jMC24Ozamwh",
    "outputId": "59df72aa-4b5e-47ae-b5f7-5f431a042d50"
   },
   "outputs": [
    {
     "data": {
      "text/plain": [
       "(801, 19394)"
      ]
     },
     "execution_count": 25,
     "metadata": {},
     "output_type": "execute_result"
    }
   ],
   "source": [
    "X_elec.shape"
   ]
  },
  {
   "cell_type": "code",
   "execution_count": 26,
   "metadata": {
    "colab": {
     "base_uri": "https://localhost:8080/"
    },
    "id": "VlfsI345Z4m5",
    "outputId": "050bc110-7f6b-44e8-845b-ce8564c6882c"
   },
   "outputs": [
    {
     "data": {
      "text/plain": [
       "(801, 10)"
      ]
     },
     "execution_count": 26,
     "metadata": {},
     "output_type": "execute_result"
    }
   ],
   "source": [
    "SVD_elec = TruncatedSVD(n_components=10)\n",
    "decomposed_matrix_elec = SVD_elec.fit_transform(X_elec)\n",
    "decomposed_matrix_elec.shape"
   ]
  },
  {
   "cell_type": "code",
   "execution_count": 27,
   "metadata": {
    "colab": {
     "base_uri": "https://localhost:8080/"
    },
    "id": "J6qFlwYZadeJ",
    "outputId": "da6bb67c-321b-4697-bc24-8beaa5e31dee"
   },
   "outputs": [
    {
     "data": {
      "text/plain": [
       "(801, 801)"
      ]
     },
     "execution_count": 27,
     "metadata": {},
     "output_type": "execute_result"
    }
   ],
   "source": [
    "correlation_matrix_elec = np.corrcoef(decomposed_matrix_elec)\n",
    "correlation_matrix_elec.shape"
   ]
  },
  {
   "cell_type": "code",
   "execution_count": 28,
   "metadata": {},
   "outputs": [
    {
     "data": {
      "text/plain": [
       "array([[ 1.00000000e+00,  2.12692511e-01, -3.88264377e-04, ...,\n",
       "         4.16338776e-01,  8.10307780e-01,  3.94393504e-01],\n",
       "       [ 2.12692511e-01,  1.00000000e+00,  7.68884513e-01, ...,\n",
       "         2.13361466e-01,  2.67251083e-01,  3.47547300e-01],\n",
       "       [-3.88264377e-04,  7.68884513e-01,  1.00000000e+00, ...,\n",
       "         3.62436360e-01,  1.68353019e-01,  5.38589284e-01],\n",
       "       ...,\n",
       "       [ 4.16338776e-01,  2.13361466e-01,  3.62436360e-01, ...,\n",
       "         1.00000000e+00,  3.85906189e-01,  7.28804654e-01],\n",
       "       [ 8.10307780e-01,  2.67251083e-01,  1.68353019e-01, ...,\n",
       "         3.85906189e-01,  1.00000000e+00,  3.48407960e-01],\n",
       "       [ 3.94393504e-01,  3.47547300e-01,  5.38589284e-01, ...,\n",
       "         7.28804654e-01,  3.48407960e-01,  1.00000000e+00]])"
      ]
     },
     "execution_count": 28,
     "metadata": {},
     "output_type": "execute_result"
    }
   ],
   "source": [
    "correlation_matrix_elec"
   ]
  },
  {
   "cell_type": "code",
   "execution_count": 29,
   "metadata": {
    "id": "YSBmM_85akwp"
   },
   "outputs": [],
   "source": [
    "def recommend_items_elec(item):\n",
    "    item_ids = list(X_elec.index)\n",
    "    item_id = item_ids.index(item)\n",
    "    corr_item_id = correlation_matrix_elec[item_id]\n",
    "    recommend = list(X_elec.index[corr_item_id > 0.65])\n",
    "    recommend.remove(item)\n",
    "    return recommend[0:20]"
   ]
  },
  {
   "cell_type": "code",
   "execution_count": 30,
   "metadata": {
    "colab": {
     "base_uri": "https://localhost:8080/"
    },
    "id": "iIb0dxhGdWah",
    "outputId": "cf16ceee-a072-4ff4-de73-c995538364dd"
   },
   "outputs": [
    {
     "data": {
      "text/plain": [
       "[77,\n",
       " 79,\n",
       " 111,\n",
       " 220,\n",
       " 259,\n",
       " 296,\n",
       " 511,\n",
       " 619,\n",
       " 647,\n",
       " 714,\n",
       " 836,\n",
       " 850,\n",
       " 1105,\n",
       " 1111,\n",
       " 1166,\n",
       " 1258,\n",
       " 1294,\n",
       " 1297,\n",
       " 1372,\n",
       " 1428]"
      ]
     },
     "execution_count": 30,
     "metadata": {},
     "output_type": "execute_result"
    }
   ],
   "source": [
    "recommend_items_elec(2)"
   ]
  },
  {
   "cell_type": "markdown",
   "metadata": {},
   "source": [
    "# GUI"
   ]
  },
  {
   "cell_type": "code",
   "execution_count": 32,
   "metadata": {},
   "outputs": [],
   "source": [
    "import tkinter as tk\n",
    "from tkinter import *"
   ]
  },
  {
   "cell_type": "code",
   "execution_count": 44,
   "metadata": {},
   "outputs": [],
   "source": [
    "def gui_mod():\n",
    "    f = tk.Tk()\n",
    "    f.title(\"Recommend clothing items\")\n",
    "    f.geometry('600x400')\n",
    "    lbl = tk.Label(f, text = \"Enter Item id:\")\n",
    "    lbl.pack()\n",
    "    def rec():\n",
    "        item = int(txt.get(1.0, \"end-1c\"))\n",
    "        items=recommend_items_mod(item)\n",
    "        for i in range(0,len(items)):\n",
    "            listbox.insert(i,items[i])\n",
    "    txt=tk.Text(f,height = 3,width = 7)\n",
    "    txt.pack()\n",
    "    btn = tk.Button(f,text = \"Submit\", command = rec)\n",
    "    btn.pack()\n",
    "    lblop = tk.Label(f, text = \"The recommended clothing items are:\")\n",
    "    lblop.pack()\n",
    "    listbox = Listbox(f, height = 22, width = 15, activestyle = 'dotbox', font = \"Helvetica\",fg = \"red\")\n",
    "    listbox.pack()\n",
    "    f.mainloop()"
   ]
  },
  {
   "cell_type": "code",
   "execution_count": 43,
   "metadata": {},
   "outputs": [],
   "source": [
    "def gui_elec():\n",
    "    f = tk.Tk()\n",
    "    f.title(\"Recommend electronic items\")\n",
    "    f.geometry('600x400')\n",
    "    lbl = tk.Label(f, text = \"Enter Item id:\")\n",
    "    lbl.pack()\n",
    "    def rec():\n",
    "        item = int(txt.get(1.0, \"end-1c\"))\n",
    "        items=recommend_items_elec(item)\n",
    "        for i in range(0,len(items)):\n",
    "            listbox.insert(i,items[i])\n",
    "    txt=tk.Text(f,height = 3,width = 7)\n",
    "    txt.pack()\n",
    "    btn = tk.Button(f,text = \"Submit\", command = rec)\n",
    "    btn.pack()\n",
    "    lblop = tk.Label(f, text = \"The recommended electronics items are:\")\n",
    "    lblop.pack()\n",
    "    listbox = Listbox(f, height = 22, width = 15, activestyle = 'dotbox', font = \"Helvetica\",fg = \"red\")\n",
    "    listbox.pack()\n",
    "    f.mainloop()"
   ]
  },
  {
   "cell_type": "code",
   "execution_count": 45,
   "metadata": {},
   "outputs": [],
   "source": [
    "gui_mod()"
   ]
  },
  {
   "cell_type": "code",
   "execution_count": 46,
   "metadata": {},
   "outputs": [],
   "source": [
    "gui_elec()"
   ]
  }
 ],
 "metadata": {
  "accelerator": "GPU",
  "colab": {
   "collapsed_sections": [],
   "name": "recommendation_engine.ipynb",
   "provenance": []
  },
  "kernelspec": {
   "display_name": "Python 3",
   "language": "python",
   "name": "python3"
  },
  "language_info": {
   "codemirror_mode": {
    "name": "ipython",
    "version": 3
   },
   "file_extension": ".py",
   "mimetype": "text/x-python",
   "name": "python",
   "nbconvert_exporter": "python",
   "pygments_lexer": "ipython3",
   "version": "3.9.5"
  }
 },
 "nbformat": 4,
 "nbformat_minor": 1
}
