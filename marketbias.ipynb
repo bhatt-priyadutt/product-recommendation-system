{
 "cells": [
  {
   "cell_type": "markdown",
   "id": "818363a1",
   "metadata": {},
   "source": [
    "# Possible Bias in product recommendation: \n",
    "Due to the selection of a\n",
    "particular human model in a product image. These correlations may\n",
    "result in the underrepresentation of particular niche markets in the\n",
    "interaction data; for example, a female user who would potentially\n",
    "like motorcycle products may be less likely to interact with them if\n",
    "they are promoted using stereotypically ‘male’ images."
   ]
  },
  {
   "cell_type": "code",
   "execution_count": 1,
   "id": "615c0031",
   "metadata": {},
   "outputs": [],
   "source": [
    "import pandas as pd\n",
    "import numpy as np\n",
    "from scipy.stats import chi2_contingency\n",
    "from scipy.stats import chi2"
   ]
  },
  {
   "cell_type": "code",
   "execution_count": 2,
   "id": "2f50a16f",
   "metadata": {},
   "outputs": [],
   "source": [
    "elec = pd.read_csv(\"electronics.csv\")\n",
    "mod = pd.read_csv(\"modcloth.csv\")"
   ]
  },
  {
   "cell_type": "markdown",
   "id": "f453d649",
   "metadata": {},
   "source": [
    "# **`Market bias`**\n",
    "1.   **Hypothesis H0 when there is no market bias**\n",
    "2.   **Hypothesis H1 when there is market bias**"
   ]
  },
  {
   "cell_type": "code",
   "execution_count": 3,
   "id": "5ec163b0",
   "metadata": {},
   "outputs": [],
   "source": [
    "#Function to detect market bias between user attribute and model attribute\n",
    "def marketbias(df):\n",
    "    tab = pd.crosstab(df['model_attr'], df['user_attr'])\n",
    "    val = chi2_contingency(tab.values)\n",
    "    expected_values = val[3]\n",
    "    dof = val[2]\n",
    "    print(\"Expected values: \",expected_values)\n",
    "    chi_square=sum([(o-e)**2./e for o,e in zip(tab.values,expected_values)])\n",
    "    chi_square_statistic=chi_square[0]+chi_square[1]\n",
    "    print( \"-------------------------------------\")\n",
    "    print(\"Chi-square statistic: \",chi_square_statistic)\n",
    "    print( \"-------------------------------------\")\n",
    "    critical_value=chi2.ppf(q=1-0.05,df=dof)\n",
    "    print(\"Critical value: \",critical_value)\n",
    "    p_value=1-chi2.cdf(x=chi_square_statistic,df=dof)\n",
    "    print( \"-------------------------------------\")\n",
    "    print(\"P-value: \",p_value)\n",
    "    if (chi_square_statistic>=critical_value) & (p_value<=0.05):\n",
    "        print(\"Reject H0,There is Market bias\")\n",
    "    else:\n",
    "        print(\"Retain H0,There is no Market bias\")"
   ]
  },
  {
   "cell_type": "markdown",
   "id": "0e5fa304",
   "metadata": {},
   "source": [
    "## Checking Market bias in ModCloth "
   ]
  },
  {
   "cell_type": "code",
   "execution_count": 4,
   "id": "7bee7a5f",
   "metadata": {},
   "outputs": [
    {
     "data": {
      "text/html": [
       "<div>\n",
       "<style scoped>\n",
       "    .dataframe tbody tr th:only-of-type {\n",
       "        vertical-align: middle;\n",
       "    }\n",
       "\n",
       "    .dataframe tbody tr th {\n",
       "        vertical-align: top;\n",
       "    }\n",
       "\n",
       "    .dataframe thead th {\n",
       "        text-align: right;\n",
       "    }\n",
       "</style>\n",
       "<table border=\"1\" class=\"dataframe\">\n",
       "  <thead>\n",
       "    <tr style=\"text-align: right;\">\n",
       "      <th></th>\n",
       "      <th>item_id</th>\n",
       "      <th>user_id</th>\n",
       "      <th>rating</th>\n",
       "      <th>timestamp</th>\n",
       "      <th>size</th>\n",
       "      <th>fit</th>\n",
       "      <th>user_attr</th>\n",
       "      <th>model_attr</th>\n",
       "      <th>category</th>\n",
       "      <th>brand</th>\n",
       "      <th>year</th>\n",
       "      <th>split</th>\n",
       "    </tr>\n",
       "  </thead>\n",
       "  <tbody>\n",
       "    <tr>\n",
       "      <th>0</th>\n",
       "      <td>7443</td>\n",
       "      <td>Alex</td>\n",
       "      <td>4</td>\n",
       "      <td>2010-01-21 08:00:00+00:00</td>\n",
       "      <td>NaN</td>\n",
       "      <td>NaN</td>\n",
       "      <td>Small</td>\n",
       "      <td>Small</td>\n",
       "      <td>Dresses</td>\n",
       "      <td>NaN</td>\n",
       "      <td>2012</td>\n",
       "      <td>0</td>\n",
       "    </tr>\n",
       "    <tr>\n",
       "      <th>1</th>\n",
       "      <td>7443</td>\n",
       "      <td>carolyn.agan</td>\n",
       "      <td>3</td>\n",
       "      <td>2010-01-27 08:00:00+00:00</td>\n",
       "      <td>NaN</td>\n",
       "      <td>NaN</td>\n",
       "      <td>NaN</td>\n",
       "      <td>Small</td>\n",
       "      <td>Dresses</td>\n",
       "      <td>NaN</td>\n",
       "      <td>2012</td>\n",
       "      <td>0</td>\n",
       "    </tr>\n",
       "    <tr>\n",
       "      <th>2</th>\n",
       "      <td>7443</td>\n",
       "      <td>Robyn</td>\n",
       "      <td>4</td>\n",
       "      <td>2010-01-29 08:00:00+00:00</td>\n",
       "      <td>NaN</td>\n",
       "      <td>NaN</td>\n",
       "      <td>Small</td>\n",
       "      <td>Small</td>\n",
       "      <td>Dresses</td>\n",
       "      <td>NaN</td>\n",
       "      <td>2012</td>\n",
       "      <td>0</td>\n",
       "    </tr>\n",
       "    <tr>\n",
       "      <th>3</th>\n",
       "      <td>7443</td>\n",
       "      <td>De</td>\n",
       "      <td>4</td>\n",
       "      <td>2010-02-13 08:00:00+00:00</td>\n",
       "      <td>NaN</td>\n",
       "      <td>NaN</td>\n",
       "      <td>NaN</td>\n",
       "      <td>Small</td>\n",
       "      <td>Dresses</td>\n",
       "      <td>NaN</td>\n",
       "      <td>2012</td>\n",
       "      <td>0</td>\n",
       "    </tr>\n",
       "    <tr>\n",
       "      <th>4</th>\n",
       "      <td>7443</td>\n",
       "      <td>tasha</td>\n",
       "      <td>4</td>\n",
       "      <td>2010-02-18 08:00:00+00:00</td>\n",
       "      <td>NaN</td>\n",
       "      <td>NaN</td>\n",
       "      <td>Small</td>\n",
       "      <td>Small</td>\n",
       "      <td>Dresses</td>\n",
       "      <td>NaN</td>\n",
       "      <td>2012</td>\n",
       "      <td>0</td>\n",
       "    </tr>\n",
       "  </tbody>\n",
       "</table>\n",
       "</div>"
      ],
      "text/plain": [
       "   item_id       user_id  rating                  timestamp  size  fit  \\\n",
       "0     7443          Alex       4  2010-01-21 08:00:00+00:00   NaN  NaN   \n",
       "1     7443  carolyn.agan       3  2010-01-27 08:00:00+00:00   NaN  NaN   \n",
       "2     7443         Robyn       4  2010-01-29 08:00:00+00:00   NaN  NaN   \n",
       "3     7443            De       4  2010-02-13 08:00:00+00:00   NaN  NaN   \n",
       "4     7443         tasha       4  2010-02-18 08:00:00+00:00   NaN  NaN   \n",
       "\n",
       "  user_attr model_attr category brand  year  split  \n",
       "0     Small      Small  Dresses   NaN  2012      0  \n",
       "1       NaN      Small  Dresses   NaN  2012      0  \n",
       "2     Small      Small  Dresses   NaN  2012      0  \n",
       "3       NaN      Small  Dresses   NaN  2012      0  \n",
       "4     Small      Small  Dresses   NaN  2012      0  "
      ]
     },
     "execution_count": 4,
     "metadata": {},
     "output_type": "execute_result"
    }
   ],
   "source": [
    "mod.head()"
   ]
  },
  {
   "cell_type": "code",
   "execution_count": 5,
   "id": "c8a848f2",
   "metadata": {},
   "outputs": [
    {
     "name": "stdout",
     "output_type": "stream",
     "text": [
      "<class 'pandas.core.frame.DataFrame'>\n",
      "RangeIndex: 99893 entries, 0 to 99892\n",
      "Data columns (total 12 columns):\n",
      " #   Column      Non-Null Count  Dtype  \n",
      "---  ------      --------------  -----  \n",
      " 0   item_id     99893 non-null  int64  \n",
      " 1   user_id     99892 non-null  object \n",
      " 2   rating      99893 non-null  int64  \n",
      " 3   timestamp   99893 non-null  object \n",
      " 4   size        78133 non-null  float64\n",
      " 5   fit         81387 non-null  object \n",
      " 6   user_attr   91526 non-null  object \n",
      " 7   model_attr  99893 non-null  object \n",
      " 8   category    99893 non-null  object \n",
      " 9   brand       25913 non-null  object \n",
      " 10  year        99893 non-null  int64  \n",
      " 11  split       99893 non-null  int64  \n",
      "dtypes: float64(1), int64(4), object(7)\n",
      "memory usage: 9.1+ MB\n"
     ]
    }
   ],
   "source": [
    "mod.info()"
   ]
  },
  {
   "cell_type": "code",
   "execution_count": 6,
   "id": "0325fa08",
   "metadata": {},
   "outputs": [],
   "source": [
    "mod2 = mod[mod.user_attr.isnull() == False]"
   ]
  },
  {
   "cell_type": "code",
   "execution_count": 7,
   "id": "8abe33e4",
   "metadata": {},
   "outputs": [
    {
     "data": {
      "text/plain": [
       "item_id           0\n",
       "user_id           1\n",
       "rating            0\n",
       "timestamp         0\n",
       "size          13393\n",
       "fit           14588\n",
       "user_attr         0\n",
       "model_attr        0\n",
       "category          0\n",
       "brand         68365\n",
       "year              0\n",
       "split             0\n",
       "dtype: int64"
      ]
     },
     "execution_count": 7,
     "metadata": {},
     "output_type": "execute_result"
    }
   ],
   "source": [
    "mod2.isna().sum()"
   ]
  },
  {
   "cell_type": "code",
   "execution_count": 8,
   "id": "557892e5",
   "metadata": {},
   "outputs": [
    {
     "name": "stdout",
     "output_type": "stream",
     "text": [
      "Expected values:  [[ 7792.97543867 31045.02456133]\n",
      " [10572.02456133 42115.97543867]]\n",
      "-------------------------------------\n",
      "Chi-square statistic:  158.94978970213168\n",
      "-------------------------------------\n",
      "Critical value:  3.841458820694124\n",
      "-------------------------------------\n",
      "P-value:  0.0\n",
      "Reject H0,There is Market bias\n"
     ]
    }
   ],
   "source": [
    "marketbias(mod2)"
   ]
  },
  {
   "cell_type": "markdown",
   "id": "1e0ae09b",
   "metadata": {
    "id": "5tZpBmae7SCC"
   },
   "source": [
    "# Checking Market bias in electronics"
   ]
  },
  {
   "cell_type": "code",
   "execution_count": 13,
   "id": "66c7e659",
   "metadata": {},
   "outputs": [
    {
     "data": {
      "text/html": [
       "<div>\n",
       "<style scoped>\n",
       "    .dataframe tbody tr th:only-of-type {\n",
       "        vertical-align: middle;\n",
       "    }\n",
       "\n",
       "    .dataframe tbody tr th {\n",
       "        vertical-align: top;\n",
       "    }\n",
       "\n",
       "    .dataframe thead th {\n",
       "        text-align: right;\n",
       "    }\n",
       "</style>\n",
       "<table border=\"1\" class=\"dataframe\">\n",
       "  <thead>\n",
       "    <tr style=\"text-align: right;\">\n",
       "      <th></th>\n",
       "      <th>item_id</th>\n",
       "      <th>user_id</th>\n",
       "      <th>rating</th>\n",
       "      <th>timestamp</th>\n",
       "      <th>model_attr</th>\n",
       "      <th>category</th>\n",
       "      <th>brand</th>\n",
       "      <th>year</th>\n",
       "      <th>user_attr</th>\n",
       "      <th>split</th>\n",
       "    </tr>\n",
       "  </thead>\n",
       "  <tbody>\n",
       "    <tr>\n",
       "      <th>0</th>\n",
       "      <td>0</td>\n",
       "      <td>0</td>\n",
       "      <td>5.0</td>\n",
       "      <td>1999-06-13</td>\n",
       "      <td>Female</td>\n",
       "      <td>Portable Audio &amp; Video</td>\n",
       "      <td>NaN</td>\n",
       "      <td>1999</td>\n",
       "      <td>NaN</td>\n",
       "      <td>0</td>\n",
       "    </tr>\n",
       "    <tr>\n",
       "      <th>1</th>\n",
       "      <td>0</td>\n",
       "      <td>1</td>\n",
       "      <td>5.0</td>\n",
       "      <td>1999-06-14</td>\n",
       "      <td>Female</td>\n",
       "      <td>Portable Audio &amp; Video</td>\n",
       "      <td>NaN</td>\n",
       "      <td>1999</td>\n",
       "      <td>NaN</td>\n",
       "      <td>0</td>\n",
       "    </tr>\n",
       "    <tr>\n",
       "      <th>2</th>\n",
       "      <td>0</td>\n",
       "      <td>2</td>\n",
       "      <td>3.0</td>\n",
       "      <td>1999-06-17</td>\n",
       "      <td>Female</td>\n",
       "      <td>Portable Audio &amp; Video</td>\n",
       "      <td>NaN</td>\n",
       "      <td>1999</td>\n",
       "      <td>NaN</td>\n",
       "      <td>0</td>\n",
       "    </tr>\n",
       "    <tr>\n",
       "      <th>3</th>\n",
       "      <td>0</td>\n",
       "      <td>3</td>\n",
       "      <td>1.0</td>\n",
       "      <td>1999-07-01</td>\n",
       "      <td>Female</td>\n",
       "      <td>Portable Audio &amp; Video</td>\n",
       "      <td>NaN</td>\n",
       "      <td>1999</td>\n",
       "      <td>NaN</td>\n",
       "      <td>0</td>\n",
       "    </tr>\n",
       "    <tr>\n",
       "      <th>4</th>\n",
       "      <td>0</td>\n",
       "      <td>4</td>\n",
       "      <td>2.0</td>\n",
       "      <td>1999-07-06</td>\n",
       "      <td>Female</td>\n",
       "      <td>Portable Audio &amp; Video</td>\n",
       "      <td>NaN</td>\n",
       "      <td>1999</td>\n",
       "      <td>NaN</td>\n",
       "      <td>0</td>\n",
       "    </tr>\n",
       "  </tbody>\n",
       "</table>\n",
       "</div>"
      ],
      "text/plain": [
       "   item_id  user_id  rating   timestamp model_attr                category  \\\n",
       "0        0        0     5.0  1999-06-13     Female  Portable Audio & Video   \n",
       "1        0        1     5.0  1999-06-14     Female  Portable Audio & Video   \n",
       "2        0        2     3.0  1999-06-17     Female  Portable Audio & Video   \n",
       "3        0        3     1.0  1999-07-01     Female  Portable Audio & Video   \n",
       "4        0        4     2.0  1999-07-06     Female  Portable Audio & Video   \n",
       "\n",
       "  brand  year user_attr  split  \n",
       "0   NaN  1999       NaN      0  \n",
       "1   NaN  1999       NaN      0  \n",
       "2   NaN  1999       NaN      0  \n",
       "3   NaN  1999       NaN      0  \n",
       "4   NaN  1999       NaN      0  "
      ]
     },
     "execution_count": 13,
     "metadata": {},
     "output_type": "execute_result"
    }
   ],
   "source": [
    "elec.head()"
   ]
  },
  {
   "cell_type": "code",
   "execution_count": 9,
   "id": "136cb809",
   "metadata": {},
   "outputs": [],
   "source": [
    "elec2 = elec[elec.user_attr.isnull() == False]"
   ]
  },
  {
   "cell_type": "code",
   "execution_count": 10,
   "id": "1d5c149b",
   "metadata": {},
   "outputs": [
    {
     "data": {
      "text/plain": [
       "item_id            0\n",
       "user_id            0\n",
       "rating             0\n",
       "timestamp          0\n",
       "model_attr         0\n",
       "category           0\n",
       "brand         128958\n",
       "year               0\n",
       "user_attr          0\n",
       "split              0\n",
       "dtype: int64"
      ]
     },
     "execution_count": 10,
     "metadata": {},
     "output_type": "execute_result"
    }
   ],
   "source": [
    "elec2.isna().sum()"
   ]
  },
  {
   "cell_type": "code",
   "execution_count": 11,
   "id": "41d6a1b9",
   "metadata": {},
   "outputs": [
    {
     "name": "stdout",
     "output_type": "stream",
     "text": [
      "Expected values:  [[32786.10760148 33059.89239852]\n",
      " [25597.12388872 25810.87611128]\n",
      " [28316.7685098  28553.2314902 ]]\n",
      "-------------------------------------\n",
      "Chi-square statistic:  581.8488687434312\n",
      "-------------------------------------\n",
      "Critical value:  5.991464547107979\n",
      "-------------------------------------\n",
      "P-value:  0.0\n",
      "Reject H0,There is Market bias\n"
     ]
    }
   ],
   "source": [
    "marketbias(elec2)"
   ]
  },
  {
   "cell_type": "markdown",
   "id": "585a20c3",
   "metadata": {},
   "source": [
    "# Thus, Both the datasets have market bias."
   ]
  }
 ],
 "metadata": {
  "kernelspec": {
   "display_name": "Python 3",
   "language": "python",
   "name": "python3"
  },
  "language_info": {
   "codemirror_mode": {
    "name": "ipython",
    "version": 3
   },
   "file_extension": ".py",
   "mimetype": "text/x-python",
   "name": "python",
   "nbconvert_exporter": "python",
   "pygments_lexer": "ipython3",
   "version": "3.9.5"
  }
 },
 "nbformat": 4,
 "nbformat_minor": 5
}
